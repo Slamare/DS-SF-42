{
 "cells": [
  {
   "cell_type": "markdown",
   "metadata": {},
   "source": [
    "<img src=\"http://imgur.com/1ZcRyrc.png\" style=\"float: left; margin: 20px; height: 55px\">\n",
    "\n",
    "## Practice Grouping Data with Pandas\n",
    "\n",
    "_Authors: Kiefer Katovich (SF), Dave Yerrington (SF), Mario Carrillo (SF)_\n",
    "\n",
    "---\n",
    "\n",
    "You are going to investigate UFO sightings around the US.  This lab will give you practice performing `groupby` operations to split data along multiple dimensions and investigate patterns between subsets of the data using basic aggregation.\n"
   ]
  },
  {
   "cell_type": "code",
   "execution_count": 1,
   "metadata": {
    "collapsed": true
   },
   "outputs": [],
   "source": [
    "import pandas as pd\n",
    "import numpy as np\n",
    "import seaborn as sns\n",
    "import matplotlib.pyplot as plt\n",
    "sns.set_style('whitegrid')\n",
    "\n",
    "%matplotlib inline\n",
    "%config InlineBackend.figure_format ='retina'"
   ]
  },
  {
   "cell_type": "markdown",
   "metadata": {},
   "source": [
    "#### 1. Load and print the header for the UFO data."
   ]
  },
  {
   "cell_type": "code",
   "execution_count": 15,
   "metadata": {},
   "outputs": [],
   "source": [
    "ufo_csv = './datasets/ufo.csv'\n",
    "df = pd.read_csv(ufo_csv)"
   ]
  },
  {
   "cell_type": "code",
   "execution_count": 21,
   "metadata": {
    "scrolled": true
   },
   "outputs": [
    {
     "data": {
      "text/html": [
       "<div>\n",
       "<style>\n",
       "    .dataframe thead tr:only-child th {\n",
       "        text-align: right;\n",
       "    }\n",
       "\n",
       "    .dataframe thead th {\n",
       "        text-align: left;\n",
       "    }\n",
       "\n",
       "    .dataframe tbody tr th {\n",
       "        vertical-align: top;\n",
       "    }\n",
       "</style>\n",
       "<table border=\"1\" class=\"dataframe\">\n",
       "  <thead>\n",
       "    <tr style=\"text-align: right;\">\n",
       "      <th></th>\n",
       "      <th>City</th>\n",
       "      <th>Colors Reported</th>\n",
       "      <th>Shape Reported</th>\n",
       "      <th>State</th>\n",
       "      <th>Time</th>\n",
       "    </tr>\n",
       "  </thead>\n",
       "  <tbody>\n",
       "    <tr>\n",
       "      <th>0</th>\n",
       "      <td>Ithaca</td>\n",
       "      <td>NaN</td>\n",
       "      <td>TRIANGLE</td>\n",
       "      <td>NY</td>\n",
       "      <td>6/1/1930 22:00</td>\n",
       "    </tr>\n",
       "    <tr>\n",
       "      <th>1</th>\n",
       "      <td>Willingboro</td>\n",
       "      <td>NaN</td>\n",
       "      <td>OTHER</td>\n",
       "      <td>NJ</td>\n",
       "      <td>6/30/1930 20:00</td>\n",
       "    </tr>\n",
       "    <tr>\n",
       "      <th>2</th>\n",
       "      <td>Holyoke</td>\n",
       "      <td>NaN</td>\n",
       "      <td>OVAL</td>\n",
       "      <td>CO</td>\n",
       "      <td>2/15/1931 14:00</td>\n",
       "    </tr>\n",
       "    <tr>\n",
       "      <th>3</th>\n",
       "      <td>Abilene</td>\n",
       "      <td>NaN</td>\n",
       "      <td>DISK</td>\n",
       "      <td>KS</td>\n",
       "      <td>6/1/1931 13:00</td>\n",
       "    </tr>\n",
       "    <tr>\n",
       "      <th>4</th>\n",
       "      <td>New York Worlds Fair</td>\n",
       "      <td>NaN</td>\n",
       "      <td>LIGHT</td>\n",
       "      <td>NY</td>\n",
       "      <td>4/18/1933 19:00</td>\n",
       "    </tr>\n",
       "  </tbody>\n",
       "</table>\n",
       "</div>"
      ],
      "text/plain": [
       "                   City Colors Reported Shape Reported State             Time\n",
       "0                Ithaca             NaN       TRIANGLE    NY   6/1/1930 22:00\n",
       "1           Willingboro             NaN          OTHER    NJ  6/30/1930 20:00\n",
       "2               Holyoke             NaN           OVAL    CO  2/15/1931 14:00\n",
       "3               Abilene             NaN           DISK    KS   6/1/1931 13:00\n",
       "4  New York Worlds Fair             NaN          LIGHT    NY  4/18/1933 19:00"
      ]
     },
     "execution_count": 21,
     "metadata": {},
     "output_type": "execute_result"
    }
   ],
   "source": [
    "df.head()\n",
    "# type(df) "
   ]
  },
  {
   "cell_type": "code",
   "execution_count": 27,
   "metadata": {},
   "outputs": [
    {
     "data": {
      "text/plain": [
       "(80543, 5)"
      ]
     },
     "execution_count": 27,
     "metadata": {},
     "output_type": "execute_result"
    }
   ],
   "source": [
    "df.shape"
   ]
  },
  {
   "cell_type": "markdown",
   "metadata": {},
   "source": [
    "#### 2. How many null values exist per column?"
   ]
  },
  {
   "cell_type": "code",
   "execution_count": 39,
   "metadata": {},
   "outputs": [
    {
     "data": {
      "text/plain": [
       "<bound method DataFrame.groupby of                        City Colors Reported Shape Reported State  \\\n",
       "0                    Ithaca             NaN       TRIANGLE    NY   \n",
       "1               Willingboro             NaN          OTHER    NJ   \n",
       "2                   Holyoke             NaN           OVAL    CO   \n",
       "3                   Abilene             NaN           DISK    KS   \n",
       "4      New York Worlds Fair             NaN          LIGHT    NY   \n",
       "5               Valley City             NaN           DISK    ND   \n",
       "6               Crater Lake             NaN         CIRCLE    CA   \n",
       "7                      Alma             NaN           DISK    MI   \n",
       "8                   Eklutna             NaN          CIGAR    AK   \n",
       "9                   Hubbard             NaN       CYLINDER    OR   \n",
       "10                  Fontana             NaN          LIGHT    CA   \n",
       "11                 Waterloo             NaN       FIREBALL    AL   \n",
       "12                   Belton             RED         SPHERE    SC   \n",
       "13                   Keokuk             NaN           OVAL    IA   \n",
       "14                Ludington             NaN           DISK    MI   \n",
       "15              Forest Home             NaN         CIRCLE    CA   \n",
       "16              Los Angeles             NaN            NaN    CA   \n",
       "17                Hapeville             NaN            NaN    GA   \n",
       "18                   Oneida             NaN      RECTANGLE    TN   \n",
       "19               Bering Sea             RED          OTHER    AK   \n",
       "20                 Nebraska             NaN           DISK    NE   \n",
       "21                      NaN             NaN            NaN    LA   \n",
       "22                      NaN             NaN          LIGHT    LA   \n",
       "23                Owensboro             NaN      RECTANGLE    KY   \n",
       "24               Wilderness             NaN           DISK    WV   \n",
       "25                San Diego             NaN          CIGAR    CA   \n",
       "26               Wilderness             NaN           DISK    WV   \n",
       "27                   Clovis             NaN           DISK    NM   \n",
       "28               Los Alamos             NaN           DISK    NM   \n",
       "29             Ft. Duschene             NaN           DISK    UT   \n",
       "...                     ...             ...            ...   ...   \n",
       "80513            Manahawkin             NaN         CIRCLE    NJ   \n",
       "80514           New Bedford             NaN          LIGHT    MA   \n",
       "80515            Woodbridge             NaN       TRIANGLE    VA   \n",
       "80516              Glendale             NaN       CYLINDER    CA   \n",
       "80517               Laconia             NaN          CIGAR    NH   \n",
       "80518             Langhorne             NaN          OTHER    PA   \n",
       "80519            Glen Ellyn             RED         CIRCLE    IL   \n",
       "80520            Waynesburg             NaN          FLASH    PA   \n",
       "80521      Canal Winchester             NaN       TRIANGLE    OH   \n",
       "80522              Lawrence          ORANGE          LIGHT    MA   \n",
       "80523         Ellicott City             NaN          LIGHT    MD   \n",
       "80524               Olympia             RED          LIGHT    WA   \n",
       "80525             Iowa City            BLUE          LIGHT    IA   \n",
       "80526            Marshfield             NaN          LIGHT    MA   \n",
       "80527               Seattle             NaN        DIAMOND    WA   \n",
       "80528        North Royalton             RED       TRIANGLE    OH   \n",
       "80529             Deer Park             NaN          LIGHT    WA   \n",
       "80530         Glen St. Mary             NaN           DISK    FL   \n",
       "80531              Abingdon             NaN         CIRCLE    VA   \n",
       "80532              Lawrence             NaN          LIGHT    MA   \n",
       "80533             Melbourne             NaN           OVAL    IA   \n",
       "80534              Burleson             NaN          LIGHT    TX   \n",
       "80535         Elizabethtown             NaN         CIRCLE    KY   \n",
       "80536               Wyoming             RED           DISK    PA   \n",
       "80537                Neligh             NaN         CIRCLE    NE   \n",
       "80538                Neligh             NaN         CIRCLE    NE   \n",
       "80539          Uhrichsville             NaN          LIGHT    OH   \n",
       "80540                Tucson        RED BLUE            NaN    AZ   \n",
       "80541           Orland park             RED          LIGHT    IL   \n",
       "80542              Loughman             NaN          LIGHT    FL   \n",
       "\n",
       "                   Time  \n",
       "0        6/1/1930 22:00  \n",
       "1       6/30/1930 20:00  \n",
       "2       2/15/1931 14:00  \n",
       "3        6/1/1931 13:00  \n",
       "4       4/18/1933 19:00  \n",
       "5       9/15/1934 15:30  \n",
       "6        6/15/1935 0:00  \n",
       "7        7/15/1936 0:00  \n",
       "8      10/15/1936 17:00  \n",
       "9        6/15/1937 0:00  \n",
       "10      8/15/1937 21:00  \n",
       "11       6/1/1939 20:00  \n",
       "12      6/30/1939 20:00  \n",
       "13        7/7/1939 2:00  \n",
       "14       6/1/1941 13:00  \n",
       "15       7/2/1941 11:30  \n",
       "16       2/25/1942 0:00  \n",
       "17       6/1/1942 22:30  \n",
       "18       7/15/1942 1:00  \n",
       "19      4/30/1943 23:00  \n",
       "20       6/1/1943 15:00  \n",
       "21       8/15/1943 0:00  \n",
       "22       8/15/1943 0:00  \n",
       "23     10/15/1943 11:00  \n",
       "24       1/1/1944 10:00  \n",
       "25       1/1/1944 12:00  \n",
       "26       1/1/1944 12:00  \n",
       "27       4/2/1944 11:00  \n",
       "28       6/1/1944 12:00  \n",
       "29      6/30/1944 10:00  \n",
       "...                 ...  \n",
       "80513     9/4/2014 8:30  \n",
       "80514     9/4/2014 9:47  \n",
       "80515    9/4/2014 16:30  \n",
       "80516    9/4/2014 17:38  \n",
       "80517    9/4/2014 19:02  \n",
       "80518    9/4/2014 19:30  \n",
       "80519    9/4/2014 20:20  \n",
       "80520    9/4/2014 20:25  \n",
       "80521    9/4/2014 20:30  \n",
       "80522    9/4/2014 20:30  \n",
       "80523    9/4/2014 20:45  \n",
       "80524    9/4/2014 21:10  \n",
       "80525    9/4/2014 21:11  \n",
       "80526    9/4/2014 21:15  \n",
       "80527    9/4/2014 21:15  \n",
       "80528    9/4/2014 21:30  \n",
       "80529    9/4/2014 22:00  \n",
       "80530    9/4/2014 22:00  \n",
       "80531    9/4/2014 22:05  \n",
       "80532    9/4/2014 22:15  \n",
       "80533    9/4/2014 22:15  \n",
       "80534    9/4/2014 22:30  \n",
       "80535    9/4/2014 22:30  \n",
       "80536    9/4/2014 23:00  \n",
       "80537    9/4/2014 23:20  \n",
       "80538    9/4/2014 23:20  \n",
       "80539     9/5/2014 1:14  \n",
       "80540     9/5/2014 2:40  \n",
       "80541     9/5/2014 3:43  \n",
       "80542     9/5/2014 5:30  \n",
       "\n",
       "[80543 rows x 5 columns]>"
      ]
     },
     "execution_count": 39,
     "metadata": {},
     "output_type": "execute_result"
    }
   ],
   "source": [
    "# A:\n",
    "df[\"City\"].isnull()\n",
    "df.groupby\n"
   ]
  },
  {
   "cell_type": "markdown",
   "metadata": {},
   "source": [
    "#### 3. Which city has the most observations?"
   ]
  },
  {
   "cell_type": "code",
   "execution_count": 5,
   "metadata": {},
   "outputs": [],
   "source": [
    "# A:"
   ]
  },
  {
   "cell_type": "markdown",
   "metadata": {},
   "source": [
    "#### 4. What is the observation count per shape?"
   ]
  },
  {
   "cell_type": "code",
   "execution_count": 6,
   "metadata": {},
   "outputs": [],
   "source": [
    "# A:"
   ]
  },
  {
   "cell_type": "markdown",
   "metadata": {},
   "source": [
    "#### 5. Create a subset of the data that is the top 5 cities and the top 5 shapes."
   ]
  },
  {
   "cell_type": "code",
   "execution_count": 7,
   "metadata": {
    "collapsed": true
   },
   "outputs": [],
   "source": [
    "# A:"
   ]
  },
  {
   "cell_type": "markdown",
   "metadata": {},
   "source": [
    "#### 6. With the subset, find the percent of each shape seen by city."
   ]
  },
  {
   "cell_type": "code",
   "execution_count": 8,
   "metadata": {},
   "outputs": [],
   "source": [
    "# A:"
   ]
  },
  {
   "cell_type": "markdown",
   "metadata": {},
   "source": [
    "**7. Make a grouped bar chart with your subset data showing counts of shapes seen by city.**"
   ]
  },
  {
   "cell_type": "code",
   "execution_count": 9,
   "metadata": {},
   "outputs": [],
   "source": [
    "# A:"
   ]
  }
 ],
 "metadata": {
  "kernelspec": {
   "display_name": "py2",
   "language": "python",
   "name": "py2"
  },
  "language_info": {
   "codemirror_mode": {
    "name": "ipython",
    "version": 2
   },
   "file_extension": ".py",
   "mimetype": "text/x-python",
   "name": "python",
   "nbconvert_exporter": "python",
   "pygments_lexer": "ipython2",
   "version": "2.7.13"
  }
 },
 "nbformat": 4,
 "nbformat_minor": 2
}
